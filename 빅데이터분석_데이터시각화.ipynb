{
  "nbformat": 4,
  "nbformat_minor": 0,
  "metadata": {
    "colab": {
      "private_outputs": true,
      "provenance": [],
      "authorship_tag": "ABX9TyMJJkk3JOaScML8GuJslp/l",
      "include_colab_link": true
    },
    "kernelspec": {
      "name": "python3",
      "display_name": "Python 3"
    },
    "language_info": {
      "name": "python"
    }
  },
  "cells": [
    {
      "cell_type": "markdown",
      "metadata": {
        "id": "view-in-github",
        "colab_type": "text"
      },
      "source": [
        "<a href=\"https://colab.research.google.com/github/jylee2930/DB_Basic/blob/main/%EB%B9%85%EB%8D%B0%EC%9D%B4%ED%84%B0%EB%B6%84%EC%84%9D_%EB%8D%B0%EC%9D%B4%ED%84%B0%EC%8B%9C%EA%B0%81%ED%99%94.ipynb\" target=\"_parent\"><img src=\"https://colab.research.google.com/assets/colab-badge.svg\" alt=\"Open In Colab\"/></a>"
      ]
    },
    {
      "cell_type": "markdown",
      "source": [
        "# 꺽은선 그래프 그리기"
      ],
      "metadata": {
        "id": "kbxwDFniOlSb"
      }
    },
    {
      "cell_type": "code",
      "execution_count": null,
      "metadata": {
        "id": "oDg6gakavXxl"
      },
      "outputs": [],
      "source": [
        "import matplotlib.pyplot as plt\n",
        "import pandas as pd"
      ]
    },
    {
      "cell_type": "code",
      "source": [
        "##1.도수분포표 만들기\n",
        "df = pd.read_excel('/content/AI_scores(data).xlsx')\n",
        "\n",
        "# 구간별로 분류하고 value_counts()로 도수 계산\n",
        "A = [49.5, 59.5, 69.5, 79.5, 89.5, 100.5]\n",
        "B = [55, 65, 75, 85, 95]\n",
        "scores1 = df['1st']"
      ],
      "metadata": {
        "id": "efnGBFcdz-eb"
      },
      "execution_count": null,
      "outputs": []
    },
    {
      "cell_type": "code",
      "source": [
        "result1 = pd.cut(scores1, bins=A, labels=B).value_counts().sort_index()\n",
        "print(result1)"
      ],
      "metadata": {
        "id": "tZnnSVZDtoeA"
      },
      "execution_count": null,
      "outputs": []
    },
    {
      "cell_type": "code",
      "source": [
        "##2. 막대 그래프 그리기\n",
        "plt.bar(result1.index, result1.values, width = 3)\n",
        "plt.show()"
      ],
      "metadata": {
        "id": "3ZWcfQxRv0Iy"
      },
      "execution_count": null,
      "outputs": []
    },
    {
      "cell_type": "code",
      "source": [
        "##6. 히스토그램 그리기\n",
        "plt.hist(scores1, bins=7)\n",
        "plt.show()"
      ],
      "metadata": {
        "id": "2a2pdP7EyFS5"
      },
      "execution_count": null,
      "outputs": []
    },
    {
      "cell_type": "code",
      "source": [
        "##3.꺽은선 그래프 그리기\n",
        "plt.plot(result1.index, result1.values,linewidth = 3, c = 'r')\n",
        "plt.show()"
      ],
      "metadata": {
        "id": "-rk1I6OhymNL"
      },
      "execution_count": null,
      "outputs": []
    },
    {
      "cell_type": "code",
      "source": [
        "##4. 파이차트 그리기\n",
        "plt.pie(result1.values, labels=result1.index, autopct='%.1f%%')\n",
        "plt.show()"
      ],
      "metadata": {
        "id": "ZPO0vFTQ06M6"
      },
      "execution_count": null,
      "outputs": []
    },
    {
      "cell_type": "code",
      "source": [
        "#5.산점도 그래프\n",
        "#상관관계 구하기\n",
        "df.corr()"
      ],
      "metadata": {
        "id": "gySyOlHG1hGV"
      },
      "execution_count": null,
      "outputs": []
    },
    {
      "cell_type": "code",
      "source": [
        "## 1st와 2nd 의 scatter plot그리기\n",
        "plt.scatter(df['1st'], df['2nd'])\n",
        "plt.show()"
      ],
      "metadata": {
        "id": "n0mDY01a11vU"
      },
      "execution_count": null,
      "outputs": []
    },
    {
      "cell_type": "code",
      "source": [
        "##7. 상자그림 그리기\n",
        "plt.boxplot(df['1st'])\n",
        "plt.show()"
      ],
      "metadata": {
        "id": "lQM8fPCw2pve"
      },
      "execution_count": null,
      "outputs": []
    },
    {
      "cell_type": "code",
      "source": [
        "data_list = [df['1st'], df['2nd'], df['3rd'], df['4th'], df['5th']]\n",
        "plt.figure(figsize=(10, 5))\n",
        "plt.boxplot(data_list, labels=['1st', '2nd', '3rd', '4th', '5th'])\n",
        "plt.show()"
      ],
      "metadata": {
        "id": "1yNXwaaa4LD7"
      },
      "execution_count": null,
      "outputs": []
    },
    {
      "cell_type": "code",
      "source": [
        "import pandas as pd\n",
        "import matplotlib.pyplot as plt\n",
        "\n",
        "##산점도 그리기\n",
        "score = pd.read_csv('/content/score.csv')\n",
        "\n",
        "#상관관계 구하기\n",
        "score.corr()\n",
        "#산점도\n",
        "plt.scatter(score['math_score'], score['absences'])\n",
        "plt.xlabel('math_score')\n",
        "plt.ylabel('absences')\n",
        "plt.show()"
      ],
      "metadata": {
        "id": "56nIp4tevl05"
      },
      "execution_count": null,
      "outputs": []
    },
    {
      "cell_type": "markdown",
      "source": [
        "# 실습하기\n",
        "\n"
      ],
      "metadata": {
        "id": "CRENH3HK6eWO"
      }
    },
    {
      "cell_type": "code",
      "source": [
        "#1. 도수분포표 만들기\n",
        "df_phone = pd.read_csv('/content/phone.csv')\n",
        "# 성별 도수\n",
        "df_phone['gender'].value_counts()\n",
        "\n",
        "# 색상 도수\n",
        "df_phone['color'].value_counts()"
      ],
      "metadata": {
        "id": "q0bfB9ZO7CBv"
      },
      "execution_count": null,
      "outputs": []
    },
    {
      "cell_type": "code",
      "source": [
        "df_phone['gender'].value_counts()"
      ],
      "metadata": {
        "id": "-Hk2fLuQ_LrT"
      },
      "execution_count": null,
      "outputs": []
    },
    {
      "cell_type": "code",
      "source": [
        "## 도수 분포표\n",
        "pd.crosstab(df_phone['gender'], df_phone['color'])"
      ],
      "metadata": {
        "id": "gv1_J2D9-zhA"
      },
      "execution_count": null,
      "outputs": []
    },
    {
      "cell_type": "code",
      "source": [
        "#2. 막대그래프 그리기\n",
        "# 1) 도수분포표 저장\n",
        "crosstab_result = pd.crosstab(df_phone['gender'], df_phone['color'])\n",
        "# 2) 여성 데이터 막대 그래프 그리기\n",
        "# 여성 데이터만 필터링\n",
        "female_data = df_phone[df_phone['gender'] == 'female']\n",
        "# x: 색상, y: 갯수\n",
        "female_color_counts = female_data['color'].value_counts()\n",
        "x = female_color_counts.index  # 색상 이름들\n",
        "y = female_color_counts.values  # 각 색상의 갯수\n",
        "plt.figure(figsize=(10, 6))\n",
        "plt.bar(x,y,width=0.7)\n",
        "plt.xlabel('Color')\n",
        "plt.ylabel('Count')\n",
        "plt.title('Female Phone Color Distribution')"
      ],
      "metadata": {
        "id": "W0TSHHcb7zak"
      },
      "execution_count": null,
      "outputs": []
    },
    {
      "cell_type": "code",
      "metadata": {
        "id": "caff5e11"
      },
      "source": [
        "print(score.columns)"
      ],
      "execution_count": null,
      "outputs": []
    }
  ]
}