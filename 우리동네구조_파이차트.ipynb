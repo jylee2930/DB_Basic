{
  "nbformat": 4,
  "nbformat_minor": 0,
  "metadata": {
    "colab": {
      "private_outputs": true,
      "provenance": [],
      "gpuType": "T4",
      "authorship_tag": "ABX9TyPbc3yp1LZvHrZ2pRccReHQ",
      "include_colab_link": true
    },
    "kernelspec": {
      "name": "python3",
      "display_name": "Python 3"
    },
    "language_info": {
      "name": "python"
    },
    "accelerator": "GPU"
  },
  "cells": [
    {
      "cell_type": "markdown",
      "metadata": {
        "id": "view-in-github",
        "colab_type": "text"
      },
      "source": [
        "<a href=\"https://colab.research.google.com/github/jylee2930/DB_Basic/blob/main/%EC%9A%B0%EB%A6%AC%EB%8F%99%EB%84%A4%EA%B5%AC%EC%A1%B0_%ED%8C%8C%EC%9D%B4%EC%B0%A8%ED%8A%B8.ipynb\" target=\"_parent\"><img src=\"https://colab.research.google.com/assets/colab-badge.svg\" alt=\"Open In Colab\"/></a>"
      ]
    },
    {
      "cell_type": "code",
      "execution_count": null,
      "metadata": {
        "id": "3yz3kPPBJKHO"
      },
      "outputs": [],
      "source": [
        "import matplotlib.pyplot as plt\n",
        "import csv"
      ]
    },
    {
      "cell_type": "code",
      "source": [
        "##남녀 구별없이 10년 단위 동네별 인구 분석\n",
        "f = open('/content/wonju.csv', encoding = 'cp949')\n",
        "data = csv.reader(f)\n",
        "for row in data:\n",
        "    print(row)"
      ],
      "metadata": {
        "id": "DSblZJwkEu4-",
        "collapsed": true
      },
      "execution_count": null,
      "outputs": []
    },
    {
      "cell_type": "code",
      "source": [
        "##원주시 총계 인구수\n",
        "f = open('/content/wonju.csv', encoding = 'cp949')\n",
        "data = csv.reader(f)\n",
        "next(data)\n",
        "age=[]\n",
        "for row in data:\n",
        "     if '강원특별자치도 원주시 (5113000000)' == row[0]:\n",
        "        for i in row[3:104]:\n",
        "            age.append(int(i))\n",
        "print(age)\n"
      ],
      "metadata": {
        "id": "0ibLwQYjGAUi"
      },
      "execution_count": null,
      "outputs": []
    },
    {
      "cell_type": "code",
      "source": [
        "plt.plot(age, c= 'g')\n",
        "plt.title(\"Total Popularion of Wonju(202506)\")\n",
        "plt.xlabel(\"Age\", fontsize = 19)\n",
        "plt.ylabel(\"Numbers\", fontsize = 19)\n",
        "plt.show()"
      ],
      "metadata": {
        "id": "ClUxzJuwGerX",
        "collapsed": true
      },
      "execution_count": null,
      "outputs": []
    },
    {
      "cell_type": "code",
      "source": [
        "##행구동 인구\n",
        "f = open('/content/wonju.csv', encoding = 'cp949')\n",
        "data = csv.reader(f)\n",
        "next(data)\n",
        "hangu = []\n",
        "for row in data:\n",
        "     if '강원특별자치도 원주시 행구동(5113065000)' == row[0]:\n",
        "        for i in row[3:104]:\n",
        "            hangu.append(int(i))\n",
        "print(hangu)\n"
      ],
      "metadata": {
        "id": "puQ8yarD9bb_"
      },
      "execution_count": null,
      "outputs": []
    },
    {
      "cell_type": "code",
      "source": [
        "##흥업 인구\n",
        "f = open('/content/wonju.csv', encoding = 'cp949')\n",
        "data = csv.reader(f)\n",
        "next(data)\n",
        "heungup = []\n",
        "for row in data:\n",
        "     if '강원특별자치도 원주시 흥업면(5113037000)' == row[0]:\n",
        "        for i in row[3:104]:\n",
        "            heungup.append(int(i))\n",
        "print(heungup)\n"
      ],
      "metadata": {
        "id": "_WfdvxsA9qgW"
      },
      "execution_count": null,
      "outputs": []
    },
    {
      "cell_type": "code",
      "source": [
        "#행구동 흥업 그래프 그리기\n",
        "plt.plot(hangu, c= 'g', label = 'Hangu')\n",
        "plt.plot(heungup, c= 'b', label = 'Heungup')\n",
        "plt.legend()\n",
        "plt.show"
      ],
      "metadata": {
        "id": "6ScTQ-kR-QGR"
      },
      "execution_count": null,
      "outputs": []
    },
    {
      "cell_type": "code",
      "source": [
        "##원주시 전체 인구 막대 그래프\n",
        "plt.bar(range(101), age, color = 'b', label = \"Wonju_Total\")\n",
        "plt.xlabel(\"Age\")\n",
        "plt.ylabel(\"Numbers\")\n",
        "plt.legend()\n",
        "plt.show()"
      ],
      "metadata": {
        "id": "g-ylpexsMowp"
      },
      "execution_count": null,
      "outputs": []
    },
    {
      "cell_type": "code",
      "source": [
        "plt.barh(range(101), age_10)\n",
        "plt.show()"
      ],
      "metadata": {
        "id": "R8m8DlIUQh5r"
      },
      "execution_count": null,
      "outputs": []
    },
    {
      "cell_type": "code",
      "source": [
        "# 원주 남자 인구 통계\n",
        "f = open('/content/wonju.csv', encoding = 'cp949')\n",
        "data = csv.reader(f)\n",
        "next(data)\n",
        "male=[]\n",
        "for row in data:\n",
        "     if '강원특별자치도 원주시 (5113000000)' == row[0]:\n",
        "        for i in row[106:207]:\n",
        "            male.append(int(i))\n",
        "print(male)\n",
        "\n",
        "# 원주 여자 인구 통계\n",
        "f = open('/content/wonju.csv', encoding = 'cp949')\n",
        "data = csv.reader(f)\n",
        "next(data)\n",
        "female=[]\n",
        "for row in data:\n",
        "     if '강원특별자치도 원주시 (5113000000)' == row[0]:\n",
        "        for i in row[209:]:\n",
        "            female.append(int(i))\n",
        "print(female)\n",
        "\n"
      ],
      "metadata": {
        "id": "Hn7yn8iJKxuq"
      },
      "execution_count": null,
      "outputs": []
    },
    {
      "cell_type": "markdown",
      "source": [
        "##남녀 구별하여 우리동네 인구 데이터 분석하기"
      ],
      "metadata": {
        "id": "yBSNcGt_4iH2"
      }
    },
    {
      "cell_type": "code",
      "source": [
        "f_w = open('/content/wonju_age_202310.csv', encoding = 'cp949')\n",
        "data_w = csv.reader(f_w)\n",
        "\n",
        "for row in data_w:\n",
        "    print(row)"
      ],
      "metadata": {
        "id": "-6osO3jX4mfP"
      },
      "execution_count": null,
      "outputs": []
    },
    {
      "cell_type": "code",
      "source": [
        "f = open('/content/wonju.csv', encoding = 'cp949')\n",
        "data = csv.reader(f)\n",
        "for row in data:\n",
        "    if '강원특별자치도 원주시 (5113000000)' == row[0]:\n",
        "        print(row)"
      ],
      "metadata": {
        "id": "hA6ddx2s4gB3"
      },
      "execution_count": null,
      "outputs": []
    },
    {
      "cell_type": "code",
      "source": [
        "f = open('/content/age_gender_wonju_08.csv', encoding = 'cp949')\n",
        "data = csv.reader(f)\n",
        "suk = []\n",
        "for row in data:\n",
        "    if '강원도 춘천시 석사동(4211065000)' == row[0]:\n",
        "        for i in row[3:]:\n",
        "           suk.append(int(i))\n",
        "print(suk)"
      ],
      "metadata": {
        "id": "4VWhoZEW5TcD"
      },
      "execution_count": null,
      "outputs": []
    },
    {
      "cell_type": "code",
      "source": [
        "f = open('/content/age_gender_wonju_08.csv', encoding = 'cp949')\n",
        "data = csv.reader(f)\n",
        "huk = []\n",
        "for row in data:\n",
        "    if '강원도 춘천시 석사동(4211065000)' == row[0]:\n",
        "        for i in row[3:]:\n",
        "           huk.append(int(i))\n",
        "print(huk)"
      ],
      "metadata": {
        "id": "skQWxPXq1O57"
      },
      "execution_count": null,
      "outputs": []
    },
    {
      "cell_type": "code",
      "source": [
        "plt.plot(age, c= 'g')\n",
        "plt.xlabel(\"Age\", fontsize = 19)\n",
        "plt.ylabel(\"Numbers\", fontsize = 19)"
      ],
      "metadata": {
        "id": "f5Jjspt67ahK"
      },
      "execution_count": null,
      "outputs": []
    },
    {
      "cell_type": "markdown",
      "source": [
        "###1. 원하는동네 이름 입력받아 시각화하기\n",
        "   2. 두 동네의 인구분포도 비교하기"
      ],
      "metadata": {
        "id": "1KddfQ2h6WaH"
      }
    },
    {
      "cell_type": "code",
      "source": [
        "f = open('/content/age_gender_wonju_08.csv', encoding = 'cp949')\n",
        "data = csv.reader(f)\n",
        "dong1 = []\n",
        "for row in data:\n",
        "    if '강원도 원주시' == row[0]:\n",
        "        for i in row[3:]:\n",
        "            dong1.append(int(i))\n",
        "print(dong1)"
      ],
      "metadata": {
        "id": "bxNCqPtB6jT-"
      },
      "execution_count": null,
      "outputs": []
    },
    {
      "cell_type": "code",
      "source": [
        "f = open('/content/age_gender_wonju_08.csv', encoding = 'cp949')\n",
        "data = csv.reader(f)\n",
        "dong2 = []\n",
        "for row in data:\n",
        "    if '강원도 원주시' == row[0]:\n",
        "        for i in row[3:]:\n",
        "            dong2.append(-int(i))\n",
        "print(dong2)"
      ],
      "metadata": {
        "id": "2ADefeE318E0"
      },
      "execution_count": null,
      "outputs": []
    },
    {
      "cell_type": "code",
      "source": [
        "plt.figure(figsize = (10,6))\n",
        "plt.barh(range(0,101), dong1, color = 'b')\n",
        "plt.barh(range(0,101), dong2, color = 'r')\n",
        "plt.legend()\n",
        "plt.show()"
      ],
      "metadata": {
        "id": "TLhB0B9H2FkL"
      },
      "execution_count": null,
      "outputs": []
    },
    {
      "cell_type": "code",
      "source": [
        "np.mean(dong1), np.mean(don2)"
      ],
      "metadata": {
        "id": "YzNThrxq25Oz"
      },
      "execution_count": null,
      "outputs": []
    },
    {
      "cell_type": "code",
      "source": [
        "f = open('/content/age_gender_wonju_08.csv', encoding = 'cp949')\n",
        "data = csv.reader(f)\n",
        "dong2 = []\n",
        "for row in data:\n",
        "    if '강원도 원주시' == row[0]:\n",
        "        for i in row[3:]:\n",
        "            dong2.append(int(i))\n",
        "print(dong2)"
      ],
      "metadata": {
        "id": "LUoQvq-F6zc3"
      },
      "execution_count": null,
      "outputs": []
    },
    {
      "cell_type": "code",
      "source": [
        "plt.plot(dong1, c= 'g', label = \"Dong1\")\n",
        "plt.plot(dong2, c = 'r', label = 'Dong2')\n",
        "plt.legend()\n",
        "plt.show()"
      ],
      "metadata": {
        "id": "vV0OTYCn65TW"
      },
      "execution_count": null,
      "outputs": []
    },
    {
      "cell_type": "markdown",
      "source": [
        "##막대그래프 그리기"
      ],
      "metadata": {
        "id": "g4fAsSWm7hkQ"
      }
    },
    {
      "cell_type": "code",
      "source": [
        "plt.figure(figsize = (10,6))\n",
        "plt.bar(range(101), age, color = 'b', label = 'Dong')\n",
        "plt.legend()\n",
        "plt.show()"
      ],
      "metadata": {
        "id": "wu1XGXzI7pbv"
      },
      "execution_count": null,
      "outputs": []
    },
    {
      "cell_type": "markdown",
      "source": [
        "##수평막대그래프 그리기"
      ],
      "metadata": {
        "id": "6bvPIb8X8Ts-"
      }
    },
    {
      "cell_type": "code",
      "source": [
        "plt.figure(figsize = (10,6))\n",
        "plt.barh(range(101), age, color = 'b', label = 'Dong')\n",
        "plt.legend()\n",
        "plt.show()"
      ],
      "metadata": {
        "id": "IG4KpZIO8YmO"
      },
      "execution_count": null,
      "outputs": []
    },
    {
      "cell_type": "markdown",
      "source": [
        "##남녀 구별하여 비교 그래프 그려보기"
      ],
      "metadata": {
        "id": "q2hwvlyO8iUS"
      }
    },
    {
      "cell_type": "code",
      "source": [
        "f_w = open('/content/pop_wonju_gender_202403.csv', encoding = 'cp949')\n",
        "data_w = csv.reader(f_w)\n",
        "\n",
        "male_w = [] ##원주 남자\n",
        "female_w = [] ## 원주 여자\n",
        "#name= input('동네 이름 입력')\n",
        "for row in data_w:\n",
        "    if \"강원특별자치도 강원특별자치도 원주시 (5113000000)\" in row[0]:\n",
        "        for i in range(3,104):\n",
        "            male_w.append(-int(row[i]))\n",
        "            female_w.append(int(row[i+103]))\n",
        "print('원주 : 연령별 남자 =', male_w)\n",
        "print('원주 : 연령별 여자 = ', female_w)"
      ],
      "metadata": {
        "id": "iZF0Ffmg8mZW"
      },
      "execution_count": null,
      "outputs": []
    },
    {
      "cell_type": "code",
      "source": [
        "f_c = open('/content/chuncheon_age_202310.csv', encoding = 'cp949')\n",
        "data_c = csv.reader(f_c)\n",
        "\n",
        "male_c = [] ##춘천 남자\n",
        "female_c = [] ## 춘천 여자\n",
        "#name= input('동네 이름 입력')\n",
        "for row in data_c:\n",
        "    if \"강원특별자치도 강원특별자치도 춘천시 (5111000000)\" in row[0]:\n",
        "        for i in range(3,104):\n",
        "            male_c.append(-int(row[i]))\n",
        "            female_c.append(int(row[i+103]))\n",
        "print('춘천 : 연령별 남자 =', male_c)\n",
        "print('춘천 : 연령별 여자 = ', female_c)"
      ],
      "metadata": {
        "id": "jkbKerjzC2NT"
      },
      "execution_count": null,
      "outputs": []
    },
    {
      "cell_type": "code",
      "source": [
        "plt.figure(figsize = (10,6))\n",
        "plt.barh(range(0,101), male_w, color = 'b', label = 'Male in Wonju')\n",
        "plt.barh(range(0,101), female_w, color = 'r', label='Female in Wonju')\n",
        "plt.xlabel(\"Gender\")\n",
        "plt.ylabel(\"Age\")\n",
        "plt.legend()\n",
        "plt.show()"
      ],
      "metadata": {
        "id": "aFgVbxnE-HFf"
      },
      "execution_count": null,
      "outputs": []
    },
    {
      "cell_type": "code",
      "source": [
        "##남년인구 파이차트\n",
        "f_w = open('/content/Wonju_gender_202310.csv', encoding = 'cp949')\n",
        "data_w = csv.reader(f_w)\n",
        "\n",
        "male_w = [] ##원주 남자\n",
        "female_w = [] ## 원주 여자\n",
        "#name= input('동네 이름 입력')\n",
        "for row in data_w:\n",
        "    if \"강원특별자치도 강원특별자치도 원주시 (5113000000)\" in row[0]:\n",
        "        for i in range(3,104):\n",
        "            male_w.append(int(row[i]))\n",
        "            female_w.append(int(row[i+103]))\n",
        "print('원주 : 연령별 남자 =', male_w)\n",
        "print('원주 : 연령별 여자 = ', female_w)"
      ],
      "metadata": {
        "id": "M1hqH36XAvU4"
      },
      "execution_count": null,
      "outputs": []
    },
    {
      "cell_type": "code",
      "source": [
        "m_w=sum(male_w)\n",
        "f_w=sum(female_w)"
      ],
      "metadata": {
        "id": "GZnH1fNhBAeJ"
      },
      "execution_count": null,
      "outputs": []
    },
    {
      "cell_type": "code",
      "source": [
        "print(m_w, f_w)"
      ],
      "metadata": {
        "id": "Ty6aIucGBnaO"
      },
      "execution_count": null,
      "outputs": []
    },
    {
      "cell_type": "code",
      "source": [
        "list = [m_w, f_w]\n",
        "labels = ['Man', 'Woman']"
      ],
      "metadata": {
        "id": "qtj7zXzyBf1K"
      },
      "execution_count": null,
      "outputs": []
    },
    {
      "cell_type": "code",
      "source": [
        "# 필요 라이브러리 불러오기\n",
        "import matplotlib.font_manager as fm\n",
        "import os\n",
        "import matplotlib.pyplot as plt\n",
        "\n",
        "# apt-get : 패키지 설치 명령어\n",
        "# -qq : 에러외의 메세지 숨기는 옵션키\n",
        "!apt-get -qq install fonts-nanum\n",
        "\n",
        "\n",
        "fe = fm.FontEntry(\n",
        "    fname=r'/usr/share/fonts/truetype/nanum/NanumGothic.ttf', # ttf 파일이 저장되어 있는 경로\n",
        "    name='NanumGothic')                        # 이 폰트의 원하는 이름 설정\n",
        "fm.fontManager.ttflist.insert(0, fe)              # Matplotlib에 폰트 추가\n",
        "plt.rcParams.update({'font.size': 18, 'font.family': 'NanumGothic'}) # 폰트 설정"
      ],
      "metadata": {
        "id": "0l6rhCnoPKuW"
      },
      "execution_count": null,
      "outputs": []
    },
    {
      "cell_type": "code",
      "source": [
        "import matplotlib.pyplot as plt\n",
        "\n",
        "plt.axis('equal')\n",
        "plt.pie(list, labels = ['Man', 'Woman'], autopct = '%.1f%%', startangle = 90)\n",
        "plt.title('Man and Woman Ratio')\n",
        "plt.show()"
      ],
      "metadata": {
        "id": "x3Kgm8qWB2uX"
      },
      "execution_count": null,
      "outputs": []
    },
    {
      "cell_type": "code",
      "source": [
        "plt.scatter(male_w,female_w)\n",
        "plt.xlabel(\"Man\")\n",
        "plt.ylabel(\"Woman\")\n",
        "plt.show()"
      ],
      "metadata": {
        "id": "xztO7tFzDOF_"
      },
      "execution_count": null,
      "outputs": []
    },
    {
      "cell_type": "code",
      "source": [
        "plt.scatter(male_w,female_w, c=range(101), cmap = 'jet')\n",
        "plt.colorbar()\n",
        "plt.plot(range(max(male_w)), range(max(male_w)), 'r')\n",
        "plt.show()"
      ],
      "metadata": {
        "id": "j3fI59MA6Vjf"
      },
      "execution_count": null,
      "outputs": []
    },
    {
      "cell_type": "code",
      "source": [
        "plt.plot(female_w, c= 'g', label = 'Female_Wonju')\n",
        "plt.plot(female_c, c= 'b', label = 'Female_Chuncheon')\n",
        "plt.xlabel(\"Female 0~100\", fontsize = 19)\n",
        "plt.ylabel(\"Numbers\", fontsize = 19)\n",
        "plt.legend()\n",
        "plt.show()"
      ],
      "metadata": {
        "id": "VkaoIRuzCPif"
      },
      "execution_count": null,
      "outputs": []
    },
    {
      "cell_type": "code",
      "source": [
        "fontprop = fm.FontProperties(fname =\"C:/Windows/Fonts/H2GTRM.TTF\" )\n",
        "plt.rcParams['font.Family'] = 'Malgun Gothic'"
      ],
      "metadata": {
        "id": "5kh_x_hxap6s"
      },
      "execution_count": null,
      "outputs": []
    },
    {
      "cell_type": "code",
      "source": [
        "f2 = open('/content/age_gender_wonju_08.csv', encoding = 'cp949')\n",
        "data2 = csv.reader(f2)\n",
        "\n",
        "m = []\n",
        "w = []\n",
        "#name= input('동네 이름 입력')\n",
        "for row in data2:\n",
        "    if \"강원도 원주시 (4213000000)\" in row[0]:\n",
        "        for i in range(3, 104):\n",
        "            m.append(-int(row[i]))\n",
        "            w.append(int(row[i+103]))\n"
      ],
      "metadata": {
        "id": "pMjxJNnBCUpX"
      },
      "execution_count": null,
      "outputs": []
    },
    {
      "cell_type": "code",
      "source": [
        "plt.figure(figsize = (10,6))\n",
        "plt.barh(range(0,101), m, color = 'b', label = 'male')\n",
        "plt.barh(range(0,101), w, color = 'r', label = 'female')\n",
        "plt.legend()\n",
        "plt.show()"
      ],
      "metadata": {
        "id": "nRra0JMj-n5H"
      },
      "execution_count": null,
      "outputs": []
    },
    {
      "cell_type": "code",
      "source": [
        "name"
      ],
      "metadata": {
        "id": "dHx7nGYNYqsI"
      },
      "execution_count": null,
      "outputs": []
    },
    {
      "cell_type": "markdown",
      "source": [
        "###다양한 파이차트 그리기"
      ],
      "metadata": {
        "id": "NK9blEP7ThA_"
      }
    },
    {
      "cell_type": "code",
      "source": [
        "plt.pie([20,10, 20,20])\n",
        "plt.show()"
      ],
      "metadata": {
        "id": "2h8_3RUwTkXX"
      },
      "execution_count": null,
      "outputs": []
    },
    {
      "cell_type": "code",
      "source": [
        "f2 = open('/content/age_gender_wonju_08.csv', encoding = 'cp949')\n",
        "data2 = csv.reader(f2)\n",
        "\n",
        "m = []\n",
        "w = []\n",
        "#name= input('동네 이름 입력')\n",
        "for row in data2:\n",
        "    if \"강원도 원주시 (4213000000)\" in row[0]:\n",
        "        for i in range(3, 104):\n",
        "            m.append(int(row[i]))\n",
        "            w.append(int(row[i+103]))"
      ],
      "metadata": {
        "id": "_d0-ohSlMBRH"
      },
      "execution_count": null,
      "outputs": []
    },
    {
      "cell_type": "code",
      "source": [
        "sw = sum(w)\n",
        "sw"
      ],
      "metadata": {
        "id": "ZUQGO0cUSuQS"
      },
      "execution_count": null,
      "outputs": []
    },
    {
      "cell_type": "code",
      "source": [
        "sm = sum(m)\n",
        "sm"
      ],
      "metadata": {
        "id": "vrmGhG6bLOIs"
      },
      "execution_count": null,
      "outputs": []
    },
    {
      "cell_type": "code",
      "source": [
        "list = [sm, sw]\n",
        "labels = ['Man', 'Woman']"
      ],
      "metadata": {
        "id": "5Id9XpVjTRme"
      },
      "execution_count": null,
      "outputs": []
    },
    {
      "cell_type": "code",
      "source": [
        "import matplotlib.pyplot as plt\n",
        "\n",
        "plt.axis('equal')\n",
        "plt.pie(list, labels = ['Man', 'Woman'], autopct = '%.1f%%', startangle = 90)\n",
        "plt.title('Ratio')\n",
        "plt.show()"
      ],
      "metadata": {
        "id": "-SJS_bWyTXUS"
      },
      "execution_count": null,
      "outputs": []
    },
    {
      "cell_type": "markdown",
      "source": [
        "#####남녀 성별 차이 그래프 그리기"
      ],
      "metadata": {
        "id": "-Vw32P-heRAc"
      }
    },
    {
      "cell_type": "code",
      "source": [
        "import matplotlib.pyplot as plt\n",
        "\n",
        "plt.figure(figsize = (10,6))\n",
        "plt.plot(m, color = 'b', label = 'Male')\n",
        "plt.plot(w, color = 'r', label = 'Female')\n",
        "plt.legend()\n",
        "plt.show()"
      ],
      "metadata": {
        "id": "c0hcUk0ZDhfP"
      },
      "execution_count": null,
      "outputs": []
    },
    {
      "cell_type": "markdown",
      "source": [
        "##남녀 인구차이 그래프 그리기"
      ],
      "metadata": {
        "id": "RjDFJTSmLgVY"
      }
    },
    {
      "cell_type": "code",
      "source": [
        "f_w = open('/content/Wonju_gender_202310.csv', encoding='cp949')\n",
        "data_w = csv.reader(f_w)\n",
        "\n",
        "dif_w = []\n",
        "#name= input('동네 이름 입력')\n",
        "for row in data_w:\n",
        "    if \"강원특별자치도 강원특별자치도 원주시 (5113000000)\" in row[0]:\n",
        "        for i in range(3, 104):\n",
        "            dif_w.append(int(row[i])-int(row[i+103])) ##남-여\n",
        "        break"
      ],
      "metadata": {
        "id": "23LlNx2LLlrE"
      },
      "execution_count": null,
      "outputs": []
    },
    {
      "cell_type": "code",
      "source": [
        "print(dif_w)"
      ],
      "metadata": {
        "id": "BVAcjf9x4vbA"
      },
      "execution_count": null,
      "outputs": []
    },
    {
      "cell_type": "code",
      "source": [
        "plt.bar(range(0,101), dif_w, color = 'b', label='male-female')\n",
        "plt.show()"
      ],
      "metadata": {
        "id": "8q4tJC7bAAYn"
      },
      "execution_count": null,
      "outputs": []
    },
    {
      "cell_type": "code",
      "source": [],
      "metadata": {
        "id": "NaWhNY1PAdeZ"
      },
      "execution_count": null,
      "outputs": []
    },
    {
      "cell_type": "code",
      "source": [],
      "metadata": {
        "id": "aqob8lhdAChp"
      },
      "execution_count": null,
      "outputs": []
    },
    {
      "cell_type": "markdown",
      "source": [
        "###산점도로 표시하기  "
      ],
      "metadata": {
        "id": "7TzeYZ3uN_53"
      }
    },
    {
      "cell_type": "code",
      "source": [
        "f = open('/content/age_gender_wonju_08.csv', encoding = 'cp949')\n",
        "data = csv.reader(f)\n",
        "\n",
        "m = []\n",
        "w = []\n",
        "#name= input('동네 이름 입력')\n",
        "for row in data:\n",
        "    if \"강원도 원주시 (4213000000)\" in row[0]:\n",
        "        for i in range(3, 104):\n",
        "            m.append(int(row[i]))\n",
        "            w.append(int(row[i+103]))\n"
      ],
      "metadata": {
        "id": "-2cnJQCKOC9L"
      },
      "execution_count": null,
      "outputs": []
    },
    {
      "cell_type": "code",
      "source": [
        "plt.scatter(m,w)\n",
        "plt.xtitle(\"남성 인구수\")\n",
        "plt.ytitle(\"여성 인구수\")\n",
        "plt.show()"
      ],
      "metadata": {
        "id": "BDOyWgbkOBez"
      },
      "execution_count": null,
      "outputs": []
    },
    {
      "cell_type": "markdown",
      "source": [
        "##추세선 그리기"
      ],
      "metadata": {
        "id": "ky2MSsSpOz5Y"
      }
    },
    {
      "cell_type": "code",
      "source": [
        "plt.scatter(m,w, c=range(101), alpha = 0.7, cmap = 'jet')\n",
        "plt.colorbar()\n",
        "plt.plot(range(max(m)),range(max(m)),'b')\n",
        "plt.show()"
      ],
      "metadata": {
        "id": "AiwI3v5yO1iT"
      },
      "execution_count": null,
      "outputs": []
    },
    {
      "cell_type": "code",
      "source": [
        "f = open('/content/Wonju_gender_202310.csv', encoding = 'cp949')\n",
        "data = csv.reader(f)\n",
        "\n",
        "m = []\n",
        "w = []\n",
        "dif = []\n",
        "#name= input('동네 이름 입력')\n",
        "for row in data:\n",
        "    if \"강원특별자치도 강원특별자치도 원주시 (5113000000)\" in row[0]:\n",
        "        for i in range(3, 104):\n",
        "            m.append(int(row[i]))\n",
        "            w.append(int(row[i+103]))\n",
        "            dif.append(int(row[i])-int(row[i+103]))"
      ],
      "metadata": {
        "id": "FlcwSGYVQ1_q"
      },
      "execution_count": null,
      "outputs": []
    },
    {
      "cell_type": "code",
      "source": [],
      "metadata": {
        "id": "fXqR8LtN_T6i"
      },
      "execution_count": null,
      "outputs": []
    },
    {
      "cell_type": "code",
      "source": [
        "plt.figure(figsize = (10,6))\n",
        "plt.bar(range(0,101), dif)\n",
        "plt.show()"
      ],
      "metadata": {
        "id": "NDCn1NNlRyDq"
      },
      "execution_count": null,
      "outputs": []
    },
    {
      "cell_type": "code",
      "source": [
        "plt.scatter(m,w, c=range(101), alpha = 0.7, cmap = 'jet')\n",
        "plt.colorbar()\n",
        "plt.plot(range(max(m)),range(max(m)),'b')\n",
        "plt.show()"
      ],
      "metadata": {
        "id": "jEjs2Z4BQ1Ta"
      },
      "execution_count": null,
      "outputs": []
    },
    {
      "cell_type": "code",
      "source": [],
      "metadata": {
        "id": "_EyjCVGzxRBL"
      },
      "execution_count": null,
      "outputs": []
    }
  ]
}