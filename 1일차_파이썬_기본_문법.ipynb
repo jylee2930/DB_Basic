{
  "nbformat": 4,
  "nbformat_minor": 0,
  "metadata": {
    "colab": {
      "provenance": [],
      "gpuType": "T4",
      "authorship_tag": "ABX9TyPLc+CE0u4CKMib76758zMC",
      "include_colab_link": true
    },
    "kernelspec": {
      "name": "python3",
      "display_name": "Python 3"
    },
    "language_info": {
      "name": "python"
    },
    "accelerator": "GPU"
  },
  "cells": [
    {
      "cell_type": "markdown",
      "metadata": {
        "id": "view-in-github",
        "colab_type": "text"
      },
      "source": [
        "<a href=\"https://colab.research.google.com/github/jylee2930/DB_Basic/blob/main/1%EC%9D%BC%EC%B0%A8_%ED%8C%8C%EC%9D%B4%EC%8D%AC_%EA%B8%B0%EB%B3%B8_%EB%AC%B8%EB%B2%95.ipynb\" target=\"_parent\"><img src=\"https://colab.research.google.com/assets/colab-badge.svg\" alt=\"Open In Colab\"/></a>"
      ]
    },
    {
      "cell_type": "markdown",
      "source": [
        "# 1. 변수 타입 - type()\n",
        "#1. 정수    int\n",
        "#2. 실수    float\n",
        "#3. 문자형  str"
      ],
      "metadata": {
        "id": "V2uAbgK6hxS8"
      }
    },
    {
      "cell_type": "code",
      "source": [
        "a = 3\n",
        "print(a)"
      ],
      "metadata": {
        "colab": {
          "base_uri": "https://localhost:8080/"
        },
        "id": "SrpfTu1Hh_Xe",
        "outputId": "d0fe20e5-1f0d-411b-d999-6e3203afbc7e"
      },
      "execution_count": null,
      "outputs": [
        {
          "output_type": "stream",
          "name": "stdout",
          "text": [
            "3\n"
          ]
        }
      ]
    },
    {
      "cell_type": "code",
      "source": [
        "type(a)"
      ],
      "metadata": {
        "colab": {
          "base_uri": "https://localhost:8080/"
        },
        "id": "U-EyLoI_h_R2",
        "outputId": "172a7c24-3879-4a3f-a764-759bc2dbdb15"
      },
      "execution_count": null,
      "outputs": [
        {
          "output_type": "execute_result",
          "data": {
            "text/plain": [
              "int"
            ]
          },
          "metadata": {},
          "execution_count": 3
        }
      ]
    },
    {
      "cell_type": "code",
      "source": [
        "b = 3.14151627\n",
        "print(b)"
      ],
      "metadata": {
        "colab": {
          "base_uri": "https://localhost:8080/"
        },
        "id": "eXIaUILDioSl",
        "outputId": "de3b1ae3-96aa-46a0-be4f-414e2fc18f15"
      },
      "execution_count": null,
      "outputs": [
        {
          "output_type": "stream",
          "name": "stdout",
          "text": [
            "3.14151627\n"
          ]
        }
      ]
    },
    {
      "cell_type": "code",
      "source": [
        "type(b)"
      ],
      "metadata": {
        "colab": {
          "base_uri": "https://localhost:8080/"
        },
        "id": "Fym8Qfo3i-pt",
        "outputId": "655e17d0-5bd5-4977-e42f-c765cfa3e643"
      },
      "execution_count": null,
      "outputs": [
        {
          "output_type": "execute_result",
          "data": {
            "text/plain": [
              "float"
            ]
          },
          "metadata": {},
          "execution_count": 6
        }
      ]
    },
    {
      "cell_type": "code",
      "source": [
        "c = 'hello'\n",
        "print(c)"
      ],
      "metadata": {
        "colab": {
          "base_uri": "https://localhost:8080/"
        },
        "id": "u9a3X40XjDK9",
        "outputId": "8c634e4c-479a-40a3-cd7b-04808bf3abcc"
      },
      "execution_count": null,
      "outputs": [
        {
          "output_type": "stream",
          "name": "stdout",
          "text": [
            "hello\n"
          ]
        }
      ]
    },
    {
      "cell_type": "code",
      "source": [
        "type(c)"
      ],
      "metadata": {
        "colab": {
          "base_uri": "https://localhost:8080/"
        },
        "id": "Tc5CdqODjMA2",
        "outputId": "a6762d32-b593-4323-f666-38fdf49672d9"
      },
      "execution_count": null,
      "outputs": [
        {
          "output_type": "execute_result",
          "data": {
            "text/plain": [
              "str"
            ]
          },
          "metadata": {},
          "execution_count": 8
        }
      ]
    },
    {
      "cell_type": "code",
      "source": [
        "d = \"Python\"\n",
        "type(d)"
      ],
      "metadata": {
        "id": "m7Gd79KxjOoF",
        "colab": {
          "base_uri": "https://localhost:8080/"
        },
        "outputId": "b2714a5f-2d67-44d9-ef28-9af5a27f54f5"
      },
      "execution_count": 1,
      "outputs": [
        {
          "output_type": "execute_result",
          "data": {
            "text/plain": [
              "str"
            ]
          },
          "metadata": {},
          "execution_count": 1
        }
      ]
    },
    {
      "cell_type": "markdown",
      "source": [
        "##2.  출력함수- print()\n",
        "##1. 문자열 출력 \"따옴표 사용 ''\n",
        "##2. format()사용하여 출력하기\n",
        "##3. f함수 사용하여 출력하기"
      ],
      "metadata": {
        "id": "TRcBrG6ikmRA"
      }
    },
    {
      "cell_type": "code",
      "source": [
        "print('Hello', 3.3, 'Python')"
      ],
      "metadata": {
        "colab": {
          "base_uri": "https://localhost:8080/"
        },
        "id": "eYzcm2RZkR5t",
        "outputId": "11ef1572-a0b5-400c-956b-feae7140db33"
      },
      "execution_count": null,
      "outputs": [
        {
          "output_type": "stream",
          "name": "stdout",
          "text": [
            "Hello 3.3 Python\n"
          ]
        }
      ]
    },
    {
      "cell_type": "code",
      "source": [
        "age = 30\n",
        "job = \"프로그래머\"\n",
        "print(\"나는\",age, \"살이며, 직업은\", job, \"입니다.\")"
      ],
      "metadata": {
        "colab": {
          "base_uri": "https://localhost:8080/"
        },
        "id": "mcngHG4-mpbQ",
        "outputId": "0745e988-d7b3-4f14-b051-fa92de60abc5"
      },
      "execution_count": 4,
      "outputs": [
        {
          "output_type": "stream",
          "name": "stdout",
          "text": [
            "나는 30 살이며, 직업은 프로그래머 입니다.\n"
          ]
        }
      ]
    },
    {
      "cell_type": "code",
      "source": [
        "score = 95\n",
        "subject = \"경제\"\n",
        "print(\"나는 {}을 제일 좋아하며,{}점이다\".format(subject,score))"
      ],
      "metadata": {
        "colab": {
          "base_uri": "https://localhost:8080/"
        },
        "id": "FOBy22caXkeE",
        "outputId": "f7a2fa73-cf6a-4d64-cfdc-63b6aec309f6"
      },
      "execution_count": null,
      "outputs": [
        {
          "output_type": "stream",
          "name": "stdout",
          "text": [
            "나는 경제을 제일 좋아하며,95점이다\n"
          ]
        }
      ]
    },
    {
      "cell_type": "code",
      "source": [
        "print(f\"나는 {subject}를 제일 좋아하며, {score}점이다.\")"
      ],
      "metadata": {
        "colab": {
          "base_uri": "https://localhost:8080/"
        },
        "id": "SDgJWg_0ZFW5",
        "outputId": "0bb04069-8776-4467-a4e2-21851d49396b"
      },
      "execution_count": null,
      "outputs": [
        {
          "output_type": "stream",
          "name": "stdout",
          "text": [
            "나는 경제를 제일 좋아하며, 95점이다.\n"
          ]
        }
      ]
    },
    {
      "cell_type": "markdown",
      "source": [
        "#3. 입력함수-input()\n",
        "#1. input() 로 입력받은 변수는 모두 문자열로 인식\n",
        "#2. 타입을 변화"
      ],
      "metadata": {
        "id": "665Y6kfhkyxE"
      }
    },
    {
      "cell_type": "code",
      "source": [
        "score = input()\n"
      ],
      "metadata": {
        "colab": {
          "base_uri": "https://localhost:8080/"
        },
        "id": "Djir2AW6be1t",
        "outputId": "95e21943-d9f3-4536-eb51-f688839273bb"
      },
      "execution_count": null,
      "outputs": [
        {
          "name": "stdout",
          "output_type": "stream",
          "text": [
            "95\n"
          ]
        }
      ]
    },
    {
      "cell_type": "code",
      "source": [
        "print(score)"
      ],
      "metadata": {
        "colab": {
          "base_uri": "https://localhost:8080/"
        },
        "id": "IR8FT6sGcbOS",
        "outputId": "6690b865-1b93-4f52-f676-9cfa19706524"
      },
      "execution_count": null,
      "outputs": [
        {
          "output_type": "stream",
          "name": "stdout",
          "text": [
            "95\n"
          ]
        }
      ]
    },
    {
      "cell_type": "code",
      "source": [
        "type(score)"
      ],
      "metadata": {
        "colab": {
          "base_uri": "https://localhost:8080/"
        },
        "id": "534cSNXcbkja",
        "outputId": "6835a4c0-eff0-4949-f352-5dd500ce993b"
      },
      "execution_count": null,
      "outputs": [
        {
          "output_type": "execute_result",
          "data": {
            "text/plain": [
              "str"
            ]
          },
          "metadata": {},
          "execution_count": 14
        }
      ]
    },
    {
      "cell_type": "code",
      "source": [
        "score = int(score)\n",
        "type(score)"
      ],
      "metadata": {
        "colab": {
          "base_uri": "https://localhost:8080/"
        },
        "id": "ars0HveSb5nZ",
        "outputId": "51d4c206-2615-49fd-f361-7a686a7c33bb"
      },
      "execution_count": null,
      "outputs": [
        {
          "output_type": "execute_result",
          "data": {
            "text/plain": [
              "int"
            ]
          },
          "metadata": {},
          "execution_count": 10
        }
      ]
    },
    {
      "cell_type": "code",
      "source": [
        "##실수형으로 변환하기\n",
        "A = float(input())"
      ],
      "metadata": {
        "colab": {
          "base_uri": "https://localhost:8080/"
        },
        "id": "K4wEvsLskYeV",
        "outputId": "fd4907d2-41f7-4c13-881d-b96b221ff043"
      },
      "execution_count": null,
      "outputs": [
        {
          "name": "stdout",
          "output_type": "stream",
          "text": [
            "3.14157777\n"
          ]
        }
      ]
    },
    {
      "cell_type": "code",
      "source": [
        "type(A)"
      ],
      "metadata": {
        "colab": {
          "base_uri": "https://localhost:8080/"
        },
        "id": "4pMFcZt0lKgN",
        "outputId": "341a2cfe-dcbc-4cb5-b873-4db5de915359"
      },
      "execution_count": null,
      "outputs": [
        {
          "output_type": "execute_result",
          "data": {
            "text/plain": [
              "float"
            ]
          },
          "metadata": {},
          "execution_count": 23
        }
      ]
    },
    {
      "cell_type": "code",
      "source": [
        "##정수형으로 변환하기\n",
        "A=int(input())"
      ],
      "metadata": {
        "colab": {
          "base_uri": "https://localhost:8080/"
        },
        "id": "IG3www_Kl-cl",
        "outputId": "2478d9c7-491a-4c18-9fdb-6dd81767b27e"
      },
      "execution_count": 6,
      "outputs": [
        {
          "name": "stdout",
          "output_type": "stream",
          "text": [
            "33\n"
          ]
        }
      ]
    },
    {
      "cell_type": "code",
      "source": [
        "type(A)"
      ],
      "metadata": {
        "colab": {
          "base_uri": "https://localhost:8080/"
        },
        "id": "0CmHEFChmDvO",
        "outputId": "e3dd462f-b899-4e93-e9e2-fca6d68bb700"
      },
      "execution_count": 7,
      "outputs": [
        {
          "output_type": "execute_result",
          "data": {
            "text/plain": [
              "int"
            ]
          },
          "metadata": {},
          "execution_count": 7
        }
      ]
    },
    {
      "cell_type": "markdown",
      "source": [
        "# 4. 리스트\n",
        "##1. 숫자형 리스트 : a = [1,3,2,5,6]  \n",
        "##2. 문자형 리스트 : s = [\"A\", \"B\", \"C\"]\n",
        "##3. 복합형 리스트 : c = [\"a\", \"b\", 30,40]\n",
        "##4. 딕셔너리 : d = {\"a\":95, \"b\":45, \"C\":99}\n",
        "##5. 튜플 t = (1,3,2,4,5)"
      ],
      "metadata": {
        "id": "2dlB-ouWnZNV"
      }
    },
    {
      "cell_type": "code",
      "source": [
        "a = [1,3,2,5,6]\n",
        "type(a)"
      ],
      "metadata": {
        "colab": {
          "base_uri": "https://localhost:8080/"
        },
        "id": "msXLSDM9mGg2",
        "outputId": "69978304-daf0-41af-92a7-895b20254e5c"
      },
      "execution_count": null,
      "outputs": [
        {
          "output_type": "execute_result",
          "data": {
            "text/plain": [
              "list"
            ]
          },
          "metadata": {},
          "execution_count": 16
        }
      ]
    },
    {
      "cell_type": "code",
      "source": [
        "s = [\"A\", \"B\", \"C\"]\n",
        "type(s)"
      ],
      "metadata": {
        "colab": {
          "base_uri": "https://localhost:8080/"
        },
        "id": "iVLmVoC9d1iw",
        "outputId": "b371bb3d-9a63-4268-ced9-21c5f7599b6d"
      },
      "execution_count": null,
      "outputs": [
        {
          "output_type": "execute_result",
          "data": {
            "text/plain": [
              "list"
            ]
          },
          "metadata": {},
          "execution_count": 17
        }
      ]
    },
    {
      "cell_type": "code",
      "source": [
        "d = {\"a\":95, \"b\":45, \"C\":99}\n",
        "type(d)"
      ],
      "metadata": {
        "colab": {
          "base_uri": "https://localhost:8080/"
        },
        "id": "bIfbUKstd88h",
        "outputId": "90da3d5d-fce0-4f50-8d3d-4026a0acb990"
      },
      "execution_count": null,
      "outputs": [
        {
          "output_type": "execute_result",
          "data": {
            "text/plain": [
              "dict"
            ]
          },
          "metadata": {},
          "execution_count": 28
        }
      ]
    },
    {
      "cell_type": "markdown",
      "source": [
        "# 인덱스\n",
        "## 왼쪽부터 리스트 원소의 번호를 붙임.\n",
        "##[0] [1],...\n",
        "## 오른쪽부터 리스트 원소의 번호를 붙임\n",
        "##  ....., [-2], [-1]\n",
        "##딕셔너리의 경우 key와 value의 쌍으로 되어 있어 key, 또는 value만 리스트에 저장한다."
      ],
      "metadata": {
        "id": "Umwgzd5veTto"
      }
    },
    {
      "cell_type": "code",
      "source": [
        "a = [1,3,2,5,6]\n",
        "s = [\"A\", \"B\", \"C\"]\n",
        "b = [\"a\", \"b\", 30,40]\n",
        "d = {\"a\":95, \"b\":45, \"C\":99}\n",
        "t = (1,3,2,4,5)"
      ],
      "metadata": {
        "id": "_urqjBIzjUQl"
      },
      "execution_count": 8,
      "outputs": []
    },
    {
      "cell_type": "code",
      "source": [
        "a[0]"
      ],
      "metadata": {
        "colab": {
          "base_uri": "https://localhost:8080/"
        },
        "id": "wTohvVh1nBz-",
        "outputId": "e2ad9742-fea9-496e-f1bc-e34d3caf247d"
      },
      "execution_count": 9,
      "outputs": [
        {
          "output_type": "execute_result",
          "data": {
            "text/plain": [
              "1"
            ]
          },
          "metadata": {},
          "execution_count": 9
        }
      ]
    },
    {
      "cell_type": "code",
      "source": [
        "s[-1]"
      ],
      "metadata": {
        "colab": {
          "base_uri": "https://localhost:8080/",
          "height": 35
        },
        "id": "CHg1vBVynDp-",
        "outputId": "a05378fd-a951-4bb1-c5e3-212c4134abe4"
      },
      "execution_count": 10,
      "outputs": [
        {
          "output_type": "execute_result",
          "data": {
            "text/plain": [
              "'C'"
            ],
            "application/vnd.google.colaboratory.intrinsic+json": {
              "type": "string"
            }
          },
          "metadata": {},
          "execution_count": 10
        }
      ]
    },
    {
      "cell_type": "code",
      "source": [
        "d.keys()"
      ],
      "metadata": {
        "colab": {
          "base_uri": "https://localhost:8080/"
        },
        "id": "EHtScDIWezQZ",
        "outputId": "4127c036-0076-40ad-af76-7bd6af0f21ef"
      },
      "execution_count": 17,
      "outputs": [
        {
          "output_type": "execute_result",
          "data": {
            "text/plain": [
              "dict_keys(['a', 'b', 'C'])"
            ]
          },
          "metadata": {},
          "execution_count": 17
        }
      ]
    },
    {
      "cell_type": "code",
      "source": [
        "d.values()"
      ],
      "metadata": {
        "colab": {
          "base_uri": "https://localhost:8080/"
        },
        "id": "GJZs1maPpLGc",
        "outputId": "ae320780-8099-4077-81b4-a1e07e50dab8"
      },
      "execution_count": 18,
      "outputs": [
        {
          "output_type": "execute_result",
          "data": {
            "text/plain": [
              "dict_values([95, 45, 99])"
            ]
          },
          "metadata": {},
          "execution_count": 18
        }
      ]
    },
    {
      "cell_type": "code",
      "source": [
        "list(d.keys())[0]"
      ],
      "metadata": {
        "colab": {
          "base_uri": "https://localhost:8080/",
          "height": 35
        },
        "id": "N5VmtNDFpnBg",
        "outputId": "244b1a33-e54d-4b46-d31c-8aa9df5ce7a4"
      },
      "execution_count": 19,
      "outputs": [
        {
          "output_type": "execute_result",
          "data": {
            "text/plain": [
              "'a'"
            ],
            "application/vnd.google.colaboratory.intrinsic+json": {
              "type": "string"
            }
          },
          "metadata": {},
          "execution_count": 19
        }
      ]
    },
    {
      "cell_type": "code",
      "source": [
        "list(d.values())[0]"
      ],
      "metadata": {
        "colab": {
          "base_uri": "https://localhost:8080/"
        },
        "id": "bgIrv1K0pw75",
        "outputId": "7be37dd8-fb6f-457c-e142-6bc2a03cf75e"
      },
      "execution_count": 20,
      "outputs": [
        {
          "output_type": "execute_result",
          "data": {
            "text/plain": [
              "95"
            ]
          },
          "metadata": {},
          "execution_count": 20
        }
      ]
    },
    {
      "cell_type": "code",
      "source": [
        "c[0]"
      ],
      "metadata": {
        "colab": {
          "base_uri": "https://localhost:8080/",
          "height": 35
        },
        "id": "o0CARNWinFsl",
        "outputId": "68322465-bb65-472d-ecf8-9282b7e00653"
      },
      "execution_count": null,
      "outputs": [
        {
          "output_type": "execute_result",
          "data": {
            "text/plain": [
              "'h'"
            ],
            "application/vnd.google.colaboratory.intrinsic+json": {
              "type": "string"
            }
          },
          "metadata": {},
          "execution_count": 31
        }
      ]
    },
    {
      "cell_type": "code",
      "source": [
        "c[-1]"
      ],
      "metadata": {
        "colab": {
          "base_uri": "https://localhost:8080/",
          "height": 35
        },
        "id": "nHu-FdcWnJDt",
        "outputId": "0456fdce-3224-4dfe-eab1-db4b50e45a6b"
      },
      "execution_count": null,
      "outputs": [
        {
          "output_type": "execute_result",
          "data": {
            "text/plain": [
              "'o'"
            ],
            "application/vnd.google.colaboratory.intrinsic+json": {
              "type": "string"
            }
          },
          "metadata": {},
          "execution_count": 32
        }
      ]
    },
    {
      "cell_type": "markdown",
      "source": [
        "# 슬라이싱을 사용하여 부분집합 만들기\n",
        "\n",
        "1. 변수명[n:] ; n부터 끝까지\n",
        "2. 변수명[:n] ; 첨부터 n 미만\n",
        "3. 변수명[n:m] : n 이상 m 미만\n",
        "4. 변수명[n:m;k] ; n 이상 m 미만까지 k 씩 건너뛰기"
      ],
      "metadata": {
        "id": "53owcu1EnxJP"
      }
    },
    {
      "cell_type": "code",
      "source": [
        "a[:]"
      ],
      "metadata": {
        "colab": {
          "base_uri": "https://localhost:8080/"
        },
        "id": "lhAwsBWFnVDO",
        "outputId": "3f3a027f-cd91-4136-905e-b78a5d53b899"
      },
      "execution_count": 25,
      "outputs": [
        {
          "output_type": "execute_result",
          "data": {
            "text/plain": [
              "[1, 3, 2, 5, 6]"
            ]
          },
          "metadata": {},
          "execution_count": 25
        }
      ]
    },
    {
      "cell_type": "code",
      "source": [
        "a[1:3]"
      ],
      "metadata": {
        "colab": {
          "base_uri": "https://localhost:8080/"
        },
        "id": "imS638OCoEx-",
        "outputId": "6fbd7478-e240-4efe-b3a0-ee43580ab051"
      },
      "execution_count": 26,
      "outputs": [
        {
          "output_type": "execute_result",
          "data": {
            "text/plain": [
              "[3, 2]"
            ]
          },
          "metadata": {},
          "execution_count": 26
        }
      ]
    },
    {
      "cell_type": "code",
      "source": [
        "a[-4:-1]"
      ],
      "metadata": {
        "colab": {
          "base_uri": "https://localhost:8080/"
        },
        "id": "gFRDQWfAoRg-",
        "outputId": "e42370dc-aeea-43b0-9d6a-c8d1973e5d1b"
      },
      "execution_count": 34,
      "outputs": [
        {
          "output_type": "execute_result",
          "data": {
            "text/plain": [
              "[3, 2, 5]"
            ]
          },
          "metadata": {},
          "execution_count": 34
        }
      ]
    },
    {
      "cell_type": "code",
      "source": [
        "a[-5:10]"
      ],
      "metadata": {
        "colab": {
          "base_uri": "https://localhost:8080/"
        },
        "id": "I20oGu8qoO2e",
        "outputId": "fb05b505-9ced-4e81-a319-8281a0acd7e8"
      },
      "execution_count": 35,
      "outputs": [
        {
          "output_type": "execute_result",
          "data": {
            "text/plain": [
              "[1, 3, 2, 5, 6]"
            ]
          },
          "metadata": {},
          "execution_count": 35
        }
      ]
    },
    {
      "cell_type": "code",
      "source": [
        "a[-5:]"
      ],
      "metadata": {
        "colab": {
          "base_uri": "https://localhost:8080/"
        },
        "id": "KDLc2M06lljN",
        "outputId": "8d4183b9-094c-4e72-885d-21c5be711424"
      },
      "execution_count": 37,
      "outputs": [
        {
          "output_type": "execute_result",
          "data": {
            "text/plain": [
              "[1, 3, 2, 5, 6]"
            ]
          },
          "metadata": {},
          "execution_count": 37
        }
      ]
    },
    {
      "cell_type": "code",
      "source": [
        "a[0:5:2]"
      ],
      "metadata": {
        "colab": {
          "base_uri": "https://localhost:8080/"
        },
        "id": "66ooplBJrBoW",
        "outputId": "55decc5b-8e16-4206-ad4f-a93529cd17e1"
      },
      "execution_count": 38,
      "outputs": [
        {
          "output_type": "execute_result",
          "data": {
            "text/plain": [
              "[1, 2, 6]"
            ]
          },
          "metadata": {},
          "execution_count": 38
        }
      ]
    },
    {
      "cell_type": "code",
      "source": [
        "a[1:5:2]"
      ],
      "metadata": {
        "colab": {
          "base_uri": "https://localhost:8080/"
        },
        "id": "iHHymG6-ryLG",
        "outputId": "a7ae5490-9a54-4779-8118-5b6234221549"
      },
      "execution_count": 40,
      "outputs": [
        {
          "output_type": "execute_result",
          "data": {
            "text/plain": [
              "[3, 5]"
            ]
          },
          "metadata": {},
          "execution_count": 40
        }
      ]
    },
    {
      "cell_type": "code",
      "source": [
        "i=(1,2,3)"
      ],
      "metadata": {
        "id": "FK4H26k2ljpV"
      },
      "execution_count": 41,
      "outputs": []
    },
    {
      "cell_type": "code",
      "source": [
        "type(i)"
      ],
      "metadata": {
        "colab": {
          "base_uri": "https://localhost:8080/"
        },
        "id": "ijyceUEescYo",
        "outputId": "67935bc3-a033-4973-ee7a-603068aadea6"
      },
      "execution_count": 42,
      "outputs": [
        {
          "output_type": "execute_result",
          "data": {
            "text/plain": [
              "tuple"
            ]
          },
          "metadata": {},
          "execution_count": 42
        }
      ]
    },
    {
      "cell_type": "code",
      "source": [
        "import numpy as np"
      ],
      "metadata": {
        "id": "0J34PPB1h93o"
      },
      "execution_count": 43,
      "outputs": []
    },
    {
      "cell_type": "code",
      "execution_count": 53,
      "metadata": {
        "id": "2sRNoMzzgl--",
        "colab": {
          "base_uri": "https://localhost:8080/"
        },
        "outputId": "de6ba51c-f847-45e4-baf5-2b0a45917359"
      },
      "outputs": [
        {
          "output_type": "stream",
          "name": "stdout",
          "text": [
            "[ 1.  2.  3.  4.  5.  6.  7.  8.  9. 10. 11. 12. 13. 14. 15. 16. 17. 18.\n",
            " 19. 20. 21. 22. 23. 24. 25. 26. 27. 28. 29. 30.]\n"
          ]
        }
      ],
      "source": [
        "##자동으로 집합 생성하기\n",
        "A = np.linspace(1,30,30)\n",
        "print(A)"
      ]
    },
    {
      "cell_type": "code",
      "source": [
        "school = \"Wonju Medical High School\"\n",
        "len(school)"
      ],
      "metadata": {
        "colab": {
          "base_uri": "https://localhost:8080/"
        },
        "id": "aekBXkUervx1",
        "outputId": "a81654b8-b757-4adf-c63b-c622006d5724"
      },
      "execution_count": 55,
      "outputs": [
        {
          "output_type": "execute_result",
          "data": {
            "text/plain": [
              "25"
            ]
          },
          "metadata": {},
          "execution_count": 55
        }
      ]
    },
    {
      "cell_type": "code",
      "source": [
        "school.count(\"l\")"
      ],
      "metadata": {
        "colab": {
          "base_uri": "https://localhost:8080/"
        },
        "id": "4qUStIVRsAvu",
        "outputId": "f7017421-3225-437a-d63b-c0c540e8c150"
      },
      "execution_count": 57,
      "outputs": [
        {
          "output_type": "execute_result",
          "data": {
            "text/plain": [
              "2"
            ]
          },
          "metadata": {},
          "execution_count": 57
        }
      ]
    },
    {
      "cell_type": "code",
      "source": [],
      "metadata": {
        "id": "YLS1sMZ2sNho"
      },
      "execution_count": null,
      "outputs": []
    }
  ]
}